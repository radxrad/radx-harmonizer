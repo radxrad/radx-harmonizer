{
 "cells": [
  {
   "cell_type": "code",
   "execution_count": 1,
   "id": "13ff6da3-381c-46ae-936b-6062d451caee",
   "metadata": {},
   "outputs": [
    {
     "name": "stdout",
     "output_type": "stream",
     "text": [
      "      name\n",
      "0  Charlie\n",
      "1    Alice\n",
      "2    David\n",
      "3      Bob\n"
     ]
    }
   ],
   "source": [
    "import pandas as pd\n",
    "\n",
    "# Sample DataFrame\n",
    "data = {'name': ['Alice', 'Bob', 'Charlie', 'David']}\n",
    "df = pd.DataFrame(data)\n",
    "\n",
    "# List of names in desired order\n",
    "name_order = ['Charlie', 'Alice', 'David', 'Bob']\n",
    "\n",
    "# Convert the 'name' column to a categorical type with the specified order\n",
    "df['name'] = pd.Categorical(df['name'], categories=name_order, ordered=True)\n",
    "\n",
    "# Sort the DataFrame by the 'name' column\n",
    "df = df.sort_values('name').reset_index(drop=True)\n",
    "\n",
    "print(df)"
   ]
  },
  {
   "cell_type": "code",
   "execution_count": null,
   "id": "93a22925-feeb-44a0-8c63-9ce3cdce70d6",
   "metadata": {},
   "outputs": [],
   "source": []
  },
  {
   "cell_type": "code",
   "execution_count": 2,
   "id": "ba8110ad-0115-46ce-8206-29b567aed13f",
   "metadata": {},
   "outputs": [
    {
     "data": {
      "text/plain": [
       "name    category\n",
       "dtype: object"
      ]
     },
     "execution_count": 2,
     "metadata": {},
     "output_type": "execute_result"
    }
   ],
   "source": [
    "df.dtypes"
   ]
  },
  {
   "cell_type": "code",
   "execution_count": 1,
   "id": "625b13a4-b90d-41bf-a260-a2e09741d591",
   "metadata": {},
   "outputs": [
    {
     "data": {
      "text/plain": [
       "{'test'}"
      ]
     },
     "execution_count": 1,
     "metadata": {},
     "output_type": "execute_result"
    }
   ],
   "source": [
    "column_values = [\"\", \"test\"]\n",
    "column_values = set(filter(None, column_values))\n",
    "column_values"
   ]
  },
  {
   "cell_type": "code",
   "execution_count": null,
   "id": "40bdb3da-42e6-4850-8e0e-ab84a9e96e5e",
   "metadata": {},
   "outputs": [],
   "source": []
  }
 ],
 "metadata": {
  "kernelspec": {
   "display_name": "Python 3 (ipykernel)",
   "language": "python",
   "name": "python3"
  },
  "language_info": {
   "codemirror_mode": {
    "name": "ipython",
    "version": 3
   },
   "file_extension": ".py",
   "mimetype": "text/x-python",
   "name": "python",
   "nbconvert_exporter": "python",
   "pygments_lexer": "ipython3",
   "version": "3.11.9"
  }
 },
 "nbformat": 4,
 "nbformat_minor": 5
}
