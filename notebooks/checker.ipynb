{
 "cells": [
  {
   "cell_type": "markdown",
   "id": "51525f58-ad22-4e60-98d7-8f6c84dea8de",
   "metadata": {},
   "source": [
    "# This notebook checks RADx-rad data files"
   ]
  },
  {
   "cell_type": "markdown",
   "id": "54090c53-9b95-4302-a7aa-319668104a92",
   "metadata": {},
   "source": [
    "## Check preorigcopy files"
   ]
  },
  {
   "cell_type": "code",
   "execution_count": null,
   "id": "be4c0a7b-2b40-4eb2-b07b-84ef62d32faf",
   "metadata": {},
   "outputs": [],
   "source": [
    "%load_ext autoreload"
   ]
  },
  {
   "cell_type": "code",
   "execution_count": null,
   "id": "7f926277-250f-431e-bdeb-7c72bff73370",
   "metadata": {},
   "outputs": [],
   "source": [
    "%autoreload 2"
   ]
  },
  {
   "cell_type": "code",
   "execution_count": null,
   "id": "a4b477af-da8a-4a0b-a75c-290edbd27572",
   "metadata": {},
   "outputs": [],
   "source": [
    "#%run ../src/phase1.py -include rad_016_067-01\n",
    "#%run ../src/phase1.py -include rad_017_795-01 -reset\n",
    "#%run ../src/phase1.py -include rad_global_global-01 -reset\n",
    "%run ../src/phase1.py -include rad_016_114-01 -reset\n",
    "#%run ../src/phase1.py -include rad_err4_er4-er4 -reset"
   ]
  },
  {
   "cell_type": "code",
   "execution_count": null,
   "id": "b7ba991a-761b-4b37-a9c7-5882cfbb0832",
   "metadata": {},
   "outputs": [],
   "source": [
    "#run ../src/phase2.py -include rad_016_067-unit\n",
    "#%run ../src/phase2.py -include rad_016_067-01\n",
    "#%run ../src/phase2.py -include rad_017_795-01\n",
    "#%run ../src/phase2.py -include rad_global_global-01 -reset\n",
    "%run ../src/phase2.py -include rad_016_114-01 -reset\n",
    "#%run ../src/phase2.py -include rad_016_114-01\n",
    "#%run ../src/phase2.py -include rad_016_067-01 -reset\n",
    "# %run ../src/phase2.py -include rad_err4_er4-er4 -reset\n",
    "# %run ../src/phase2.py -include rad_er1_er1-er1 -reset\n",
    "\n",
    "#%run ../src/phase2.py  -exclude rad_err4_er4-er4,rad_err5a_er5a-er5a,rad_er2_er2-er2\n",
    "#%run ../src/phase2.py"
   ]
  },
  {
   "cell_type": "code",
   "execution_count": 1,
   "id": "18b79c08-b50c-4a5b-93aa-8aab81fd33ab",
   "metadata": {},
   "outputs": [
    {
     "name": "stdout",
     "output_type": "stream",
     "text": [
      "Phase3: Validate and create origcopy and transformcopy files.\n",
      "including projects: rad_016_114-01\n",
      "\n",
      "processing: ../data_harmonized/rad_016_114-01 - 18 origcopy and 6 transformcopy files created\n"
     ]
    }
   ],
   "source": [
    "#%run ../src/phase3.py -include rad_017_795-01\n",
    "#%run ../src/phase3.py -include rad_016_067-01\n",
    "#%run ../src/phase3.py -include rad_global_global-01\n",
    "%run ../src/phase3.py -include rad_016_114-01"
   ]
  },
  {
   "cell_type": "code",
   "execution_count": null,
   "id": "2f3c51aa-fcad-4ff7-a8af-1f951863d1c2",
   "metadata": {},
   "outputs": [],
   "source": []
  },
  {
   "cell_type": "code",
   "execution_count": null,
   "id": "99351278-9df0-45cc-b0ac-67e5ec51edf9",
   "metadata": {},
   "outputs": [],
   "source": []
  }
 ],
 "metadata": {
  "kernelspec": {
   "display_name": "Python 3 (ipykernel)",
   "language": "python",
   "name": "python3"
  },
  "language_info": {
   "codemirror_mode": {
    "name": "ipython",
    "version": 3
   },
   "file_extension": ".py",
   "mimetype": "text/x-python",
   "name": "python",
   "nbconvert_exporter": "python",
   "pygments_lexer": "ipython3",
   "version": "3.11.9"
  }
 },
 "nbformat": 4,
 "nbformat_minor": 5
}
